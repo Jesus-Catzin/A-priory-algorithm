{
 "cells": [
  {
   "cell_type": "code",
   "execution_count": 3,
   "metadata": {},
   "outputs": [
    {
     "name": "stdout",
     "output_type": "stream",
     "text": [
      "{'a': 2, 'c': 3, 'd': 1, 'b': 3, 'e': 3}\n",
      "{'a': 2, 'c': 3, 'b': 3, 'e': 3}\n",
      "abce\n"
     ]
    }
   ],
   "source": [
    "#Elementos o datos\n",
    "import itertools\n",
    "elements = [['a','c','d'],\n",
    "        ['b','c','e'],\n",
    "        ['a','b','c','e'],\n",
    "        ['b','e']]\n",
    "#Soporte minimo\n",
    "min_support = 2\n",
    "#Obteniendo L1 que es la frecuencia total en la que se repiten los elementos.\n",
    "def frec(elements):\n",
    "    frecuency={}\n",
    "    for i in elements: \n",
    "        for k in i:\n",
    "            if k in frecuency:\n",
    "                frecuency[k] +=1\n",
    "            else:\n",
    "                frecuency[k] = 1\n",
    "    return frecuency\n",
    "scan = frec(elements)\n",
    "print(scan)\n",
    "# Obteniendo los unicos elementos que satisfacen el soporte. \n",
    "def support_true(scan):\n",
    "    scan_temp = scan.copy()\n",
    "    for i, k in scan_temp.items():\n",
    "        if k < min_support:\n",
    "            scan.pop(i)\n",
    "    return scan\n",
    "L1 = support_true(scan)\n",
    "print(L1)\n",
    "def second_scan(L1,n):\n",
    "    string = sorted(L1.keys())\n",
    "    \n",
    "    string = \"\".join(string)\n",
    "    print(string)\n",
    "    string = list(itertools.combinations(string, n))\n",
    "    return string\n",
    "C2 = second_scan(L1,n=2)"
   ]
  },
  {
   "cell_type": "code",
   "execution_count": 4,
   "metadata": {},
   "outputs": [
    {
     "data": {
      "text/plain": [
       "[('a', 'b'), ('a', 'c'), ('a', 'e'), ('b', 'c'), ('b', 'e'), ('c', 'e')]"
      ]
     },
     "execution_count": 4,
     "metadata": {},
     "output_type": "execute_result"
    }
   ],
   "source": [
    "C2"
   ]
  },
  {
   "cell_type": "code",
   "execution_count": null,
   "metadata": {},
   "outputs": [],
   "source": []
  }
 ],
 "metadata": {
  "kernelspec": {
   "display_name": "Python 3",
   "language": "python",
   "name": "python3"
  },
  "language_info": {
   "codemirror_mode": {
    "name": "ipython",
    "version": 3
   },
   "file_extension": ".py",
   "mimetype": "text/x-python",
   "name": "python",
   "nbconvert_exporter": "python",
   "pygments_lexer": "ipython3",
   "version": "3.8.6"
  }
 },
 "nbformat": 4,
 "nbformat_minor": 4
}
